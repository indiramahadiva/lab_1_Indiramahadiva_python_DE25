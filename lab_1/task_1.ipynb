{
 "cells": [
  {
   "cell_type": "code",
   "execution_count": 9,
   "id": "13fc94af",
   "metadata": {},
   "outputs": [
    {
     "name": "stdout",
     "output_type": "stream",
     "text": [
      "File path : data/dna_raw.txt\n",
      "==============================================================================================================================================================================================================================================\n",
      "['>seq1\\n', 'cGTAaccaataaaaaaacaagcttaacctaattc\\n', '>seq2\\n', 'agcttagTTTGGatctggccgggg\\n', '>seq3\\n', 'gcggatttactcCCCCCAAAAANNaggggagagcccagataaatggagtctgtgcgtccaca\\n', '>seq4\\n', 'gcggatttactcaggggagagcccagGGataaatggagtctgtgcgtccaca']\n"
     ]
    }
   ],
   "source": [
    "# Setup and File Path\n",
    "import matplotlib.pyplot as plt\n",
    "\n",
    "# Define the file path\n",
    "file_path = \"data/dna_raw.txt\"\n",
    "\n",
    "print(f\"File path : {file_path}\")\n",
    "print(\"=\"*238)\n",
    "# Read and open the file\n",
    "with open(file_path, \"r\") as file:\n",
    "    dna_data = file.readlines()\n",
    "    print(dna_data)"
   ]
  },
  {
   "cell_type": "code",
   "execution_count": 13,
   "id": "13f9630e",
   "metadata": {},
   "outputs": [
    {
     "name": "stdout",
     "output_type": "stream",
     "text": [
      "\n",
      "==================================================\n",
      "Sequence ID: seq1\n",
      "Dictionary: {'a': 17, 't': 7, 'c': 8, 'g': 2}\n",
      "==================================================\n",
      "\n",
      "==================================================\n",
      "Sequence ID: seq2\n",
      "Dictionary: {'a': 3, 't': 7, 'c': 4, 'g': 10}\n",
      "==================================================\n",
      "\n",
      "==================================================\n",
      "Sequence ID: seq3\n",
      "Dictionary: {'a': 18, 't': 10, 'c': 16, 'g': 16}\n",
      "==================================================\n",
      "\n",
      "==================================================\n",
      "Sequence ID: seq4\n",
      "Dictionary: {'a': 13, 't': 10, 'c': 11, 'g': 18}\n",
      "==================================================\n"
     ]
    }
   ],
   "source": [
    "# Data Processing and Counting\n",
    "dna_letters = ['a', 't', 'c', 'g']\n",
    "\n",
    "# Initialize the result list\n",
    "final_result = []\n",
    "\n",
    "# Using zip() to pair header lines with sequence lines\n",
    "# header_id will be an item from the odd indices slice\n",
    "# sequence_letters will be an item from the even indices slice\n",
    "for header_id, sequence_letters in zip(dna_data[::2], dna_data[1::2]):\n",
    "    # Extraction and Cleaning\n",
    "    seq_id = header_id.strip()[1:]\n",
    "    sequence = sequence_letters.strip().lower()\n",
    "    \n",
    "    # Counting \n",
    "    frequency_dict = {letter: 0 for letter in dna_letters}\n",
    "    for char in sequence:\n",
    "        if char in frequency_dict:\n",
    "            frequency_dict[char] += 1\n",
    "    \n",
    "    # Output and Storage\n",
    "    print(\"\\n\" + \"=\"*50)\n",
    "    print(f\"Sequence ID: {seq_id}\")\n",
    "    print(f\"Dictionary: {frequency_dict}\")\n",
    "    final_result.append({'id': seq_id, 'counts': frequency_dict})\n",
    "\n",
    "    print(\"=\"*50)\n"
   ]
  }
 ],
 "metadata": {
  "kernelspec": {
   "display_name": "lab_1_Indiramahadiva_python_DE25",
   "language": "python",
   "name": "python3"
  },
  "language_info": {
   "codemirror_mode": {
    "name": "ipython",
    "version": 3
   },
   "file_extension": ".py",
   "mimetype": "text/x-python",
   "name": "python",
   "nbconvert_exporter": "python",
   "pygments_lexer": "ipython3",
   "version": "3.12.8"
  }
 },
 "nbformat": 4,
 "nbformat_minor": 5
}
