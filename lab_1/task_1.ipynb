{
 "cells": [
  {
   "cell_type": "code",
   "execution_count": null,
   "id": "13fc94af",
   "metadata": {},
   "outputs": [
    {
     "name": "stdout",
     "output_type": "stream",
     "text": [
      "File path : data/dna_raw.txt\n",
      "============================================================\n",
      ">seq1\n",
      "cGTAaccaataaaaaaacaagcttaacctaattc\n",
      ">seq2\n",
      "agcttagTTTGGatctggccgggg\n",
      ">seq3\n",
      "gcggatttactcCCCCCAAAAANNaggggagagcccagataaatggagtctgtgcgtccaca\n",
      ">seq4\n",
      "gcggatttactcaggggagagcccagGGataaatggagtctgtgcgtccaca\n"
     ]
    }
   ],
   "source": [
    "# Setup and File Path\n",
    "import matplotlib.pyplot as plt\n",
    "\n",
    "# Define the file path\n",
    "file_path = \"data/dna_raw.txt\"\n",
    "\n",
    "print(f\"File path : {file_path}\")\n",
    "print(\"=\"*62)\n",
    "# Read and open the file\n",
    "with open(file_path, \"r\") as file:\n",
    "    dna_data = file.read()\n",
    "    print(dna_data)"
   ]
  }
 ],
 "metadata": {
  "kernelspec": {
   "display_name": "lab_1_Indiramahadiva_python_DE25",
   "language": "python",
   "name": "python3"
  },
  "language_info": {
   "codemirror_mode": {
    "name": "ipython",
    "version": 3
   },
   "file_extension": ".py",
   "mimetype": "text/x-python",
   "name": "python",
   "nbconvert_exporter": "python",
   "pygments_lexer": "ipython3",
   "version": "3.12.8"
  }
 },
 "nbformat": 4,
 "nbformat_minor": 5
}
