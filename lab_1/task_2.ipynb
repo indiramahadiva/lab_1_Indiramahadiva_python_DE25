{
 "cells": [
  {
   "cell_type": "code",
   "execution_count": 1,
   "id": "49b454ae",
   "metadata": {},
   "outputs": [
    {
     "name": "stdout",
     "output_type": "stream",
     "text": [
      "File path set to: data/dna_raw_complicated.txt\n",
      "['>seq1\\n', 'cGTAaccaataaaaaaacaagcttaacctaattc\\n', '>seq2\\n', 'agcttagTTTGGatctggccgggg\\n', '>seq3\\n', 'gcggatttactcCCCCCAAAAANNaggggagagcccagataaatggagtctgtgcgtccaca\\n', 'gaattcgcacca\\n', 'AATAAAACCTCACCCAT\\n', 'agagcccagaatttactcCCC\\n', '>seq4\\n', 'gcggatttactcaggggagagcccagGGataaatggagtctgtgcgtccaca\\n', 'gaattcgcacca']\n"
     ]
    }
   ],
   "source": [
    "# Setup and File Path\n",
    "import matplotlib.pyplot as plt\n",
    "\n",
    "# Define the file path \n",
    "file_path = 'data/dna_raw_complicated.txt'\n",
    "\n",
    "print(f\"File path set to: {file_path}\")\n",
    "\n",
    "# Read and open the file\n",
    "with open(file_path, 'r') as file:\n",
    "    dna_data = file.readlines()\n",
    "    print(dna_data)"
   ]
  }
 ],
 "metadata": {
  "kernelspec": {
   "display_name": "lab_1_Indiramahadiva_python_DE25",
   "language": "python",
   "name": "python3"
  },
  "language_info": {
   "codemirror_mode": {
    "name": "ipython",
    "version": 3
   },
   "file_extension": ".py",
   "mimetype": "text/x-python",
   "name": "python",
   "nbconvert_exporter": "python",
   "pygments_lexer": "ipython3",
   "version": "3.12.8"
  }
 },
 "nbformat": 4,
 "nbformat_minor": 5
}
