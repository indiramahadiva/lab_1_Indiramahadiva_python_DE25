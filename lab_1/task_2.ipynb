{
 "cells": [
  {
   "cell_type": "code",
   "execution_count": 15,
   "id": "49b454ae",
   "metadata": {},
   "outputs": [
    {
     "name": "stdout",
     "output_type": "stream",
     "text": [
      "File path set to: data/dna_raw_complicated.txt\n",
      "['>seq1\\n', 'cGTAaccaataaaaaaacaagcttaacctaattc\\n', '>seq2\\n', 'agcttagTTTGGatctggccgggg\\n', '>seq3\\n', 'gcggatttactcCCCCCAAAAANNaggggagagcccagataaatggagtctgtgcgtccaca\\n', 'gaattcgcacca\\n', 'AATAAAACCTCACCCAT\\n', 'agagcccagaatttactcCCC\\n', '>seq4\\n', 'gcggatttactcaggggagagcccagGGataaatggagtctgtgcgtccaca\\n', 'gaattcgcacca']\n"
     ]
    }
   ],
   "source": [
    "# Setup and File Path\n",
    "import matplotlib.pyplot as plt\n",
    "\n",
    "# Define the file path \n",
    "file_path = 'data/dna_raw_complicated.txt'\n",
    "\n",
    "print(f\"File path set to: {file_path}\")\n",
    "\n",
    "# Read and open the file\n",
    "with open(file_path, 'r') as file:\n",
    "    dna_data = file.readlines()\n",
    "    print(dna_data)"
   ]
  },
  {
   "cell_type": "code",
   "execution_count": 16,
   "id": "d8bbf69f",
   "metadata": {},
   "outputs": [
    {
     "name": "stdout",
     "output_type": "stream",
     "text": [
      "\n",
      "==================================================\n",
      "Sequence ID: seq1\n",
      "Dictionary: {'c': 8, 'g': 2, 't': 7, 'a': 17}\n",
      "\n",
      "==================================================\n",
      "Sequence ID: seq2\n",
      "Dictionary: {'a': 3, 'g': 10, 'c': 4, 't': 7}\n",
      "\n",
      "==================================================\n",
      "Sequence ID: seq3\n",
      "Dictionary: {'g': 21, 'c': 34, 'a': 36, 't': 19, 'n': 2}\n",
      "\n",
      "==================================================\n",
      "Sequence ID: seq4\n",
      "Dictionary: {'g': 20, 'c': 15, 'a': 17, 't': 12}\n",
      "\n",
      "==================================================\n"
     ]
    }
   ],
   "source": [
    "# Import Library for efficient counting.\n",
    "from collections import Counter\n",
    "\n",
    "# Define a function\n",
    "def dna_complicated(dna_data): \n",
    "    # An empty list to store the final dictionaries.\n",
    "    final_result = []\n",
    "    # Stores the ID of the current sequence being collected (e.g., 'seq1').      \n",
    "    seq_id = None\n",
    "    # A temporary list to hold all the DNA lines for the current sequence.\n",
    "    current_sequence_lines = [] \n",
    "\n",
    "    # --- Main Loop ---\n",
    "    for line in dna_data:\n",
    "        clean_line = line.strip()\n",
    "        # Checks if the line is a new sequence header\n",
    "        if clean_line.startswith('>'):\n",
    "            # Process the previously collected sequence\n",
    "            if seq_id is not None:\n",
    "                # It joins the fragments in current_sequence_lines, converts to lowercase, and uses Counter() to instantly count the letters.\n",
    "                sequence = \"\".join(current_sequence_lines).lower()\n",
    "                frequency_dict = Counter(sequence) \n",
    "                \n",
    "                print(\"\\n\" + \"=\"*50)\n",
    "                print(f\"Sequence ID: {seq_id}\")\n",
    "                print(f\"Dictionary: {dict(frequency_dict)}\")\n",
    "                final_result.append({'id': seq_id, 'counts': dict(frequency_dict)})\n",
    "\n",
    "            # Start the new sequence\n",
    "            seq_id = clean_line[1:]\n",
    "            current_sequence_lines = []   \n",
    "        \n",
    "    # Collecting Data (If the line is not a header, it's a piece of DNA.)\n",
    "        elif clean_line:\n",
    "            current_sequence_lines.append(clean_line)\n",
    "\n",
    "    # --- Final Cleanup for the last sequence in the file ---\n",
    "    #A final block of code outside the loop runs the counting logic one last time to make sure this final sequence is also saved.\n",
    "    if seq_id is not None and current_sequence_lines:\n",
    "        sequence = \"\".join(current_sequence_lines).lower()\n",
    "        frequency_dict = Counter(sequence)\n",
    "        \n",
    "        print(\"\\n\" + \"=\"*50)\n",
    "        print(f\"Sequence ID: {seq_id}\")\n",
    "        print(f\"Dictionary: {dict(frequency_dict)}\")\n",
    "        # Stores the final ID and counts dictionary for this sequence in the main results list.\n",
    "        final_result.append({'id': seq_id, 'counts': dict(frequency_dict)})\n",
    "\n",
    "    return final_result\n",
    "\n",
    "# --- Call the function ---\n",
    "final_result = dna_complicated(dna_data) \n",
    "print(\"\\n\" + \"=\"*50)"
   ]
  }
 ],
 "metadata": {
  "kernelspec": {
   "display_name": "lab_1_Indiramahadiva_python_DE25",
   "language": "python",
   "name": "python3"
  },
  "language_info": {
   "codemirror_mode": {
    "name": "ipython",
    "version": 3
   },
   "file_extension": ".py",
   "mimetype": "text/x-python",
   "name": "python",
   "nbconvert_exporter": "python",
   "pygments_lexer": "ipython3",
   "version": "3.12.8"
  }
 },
 "nbformat": 4,
 "nbformat_minor": 5
}
